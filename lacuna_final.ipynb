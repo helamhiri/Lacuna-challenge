{
  "nbformat": 4,
  "nbformat_minor": 0,
  "metadata": {
    "colab": {
      "name": "lacuna_final.ipynb",
      "provenance": []
    },
    "kernelspec": {
      "name": "python3",
      "display_name": "Python 3"
    },
    "language_info": {
      "name": "python"
    },
    "widgets": {
      "application/vnd.jupyter.widget-state+json": {
        "d5589e6db5a04c6897d8d8dbe77e1e0d": {
          "model_module": "@jupyter-widgets/controls",
          "model_name": "HBoxModel",
          "state": {
            "_view_name": "HBoxView",
            "_dom_classes": [],
            "_model_name": "HBoxModel",
            "_view_module": "@jupyter-widgets/controls",
            "_model_module_version": "1.5.0",
            "_view_count": null,
            "_view_module_version": "1.5.0",
            "box_style": "",
            "layout": "IPY_MODEL_f7492e5cb40e4deb8a0bc006c93e9bc9",
            "_model_module": "@jupyter-widgets/controls",
            "children": [
              "IPY_MODEL_83a5d1c6d0564fa39882b77e693d13dd",
              "IPY_MODEL_2e3c5e9ad0e34dbc8850730c0c6e3c85"
            ]
          }
        },
        "f7492e5cb40e4deb8a0bc006c93e9bc9": {
          "model_module": "@jupyter-widgets/base",
          "model_name": "LayoutModel",
          "state": {
            "_view_name": "LayoutView",
            "grid_template_rows": null,
            "right": null,
            "justify_content": null,
            "_view_module": "@jupyter-widgets/base",
            "overflow": null,
            "_model_module_version": "1.2.0",
            "_view_count": null,
            "flex_flow": null,
            "width": null,
            "min_width": null,
            "border": null,
            "align_items": null,
            "bottom": null,
            "_model_module": "@jupyter-widgets/base",
            "top": null,
            "grid_column": null,
            "overflow_y": null,
            "overflow_x": null,
            "grid_auto_flow": null,
            "grid_area": null,
            "grid_template_columns": null,
            "flex": null,
            "_model_name": "LayoutModel",
            "justify_items": null,
            "grid_row": null,
            "max_height": null,
            "align_content": null,
            "visibility": null,
            "align_self": null,
            "height": null,
            "min_height": null,
            "padding": null,
            "grid_auto_rows": null,
            "grid_gap": null,
            "max_width": null,
            "order": null,
            "_view_module_version": "1.2.0",
            "grid_template_areas": null,
            "object_position": null,
            "object_fit": null,
            "grid_auto_columns": null,
            "margin": null,
            "display": null,
            "left": null
          }
        },
        "83a5d1c6d0564fa39882b77e693d13dd": {
          "model_module": "@jupyter-widgets/controls",
          "model_name": "FloatProgressModel",
          "state": {
            "_view_name": "ProgressView",
            "style": "IPY_MODEL_1c40c96f7a2d4789baaf47f584ca7111",
            "_dom_classes": [],
            "description": "100%",
            "_model_name": "FloatProgressModel",
            "bar_style": "success",
            "max": 2021,
            "_view_module": "@jupyter-widgets/controls",
            "_model_module_version": "1.5.0",
            "value": 2021,
            "_view_count": null,
            "_view_module_version": "1.5.0",
            "orientation": "horizontal",
            "min": 0,
            "description_tooltip": null,
            "_model_module": "@jupyter-widgets/controls",
            "layout": "IPY_MODEL_df896e7b60c84239b85144e7c788094f"
          }
        },
        "2e3c5e9ad0e34dbc8850730c0c6e3c85": {
          "model_module": "@jupyter-widgets/controls",
          "model_name": "HTMLModel",
          "state": {
            "_view_name": "HTMLView",
            "style": "IPY_MODEL_7f2e26bf512545a48d778bfa36e74f7a",
            "_dom_classes": [],
            "description": "",
            "_model_name": "HTMLModel",
            "placeholder": "​",
            "_view_module": "@jupyter-widgets/controls",
            "_model_module_version": "1.5.0",
            "value": " 2021/2021 [26:45&lt;00:00,  1.26it/s]",
            "_view_count": null,
            "_view_module_version": "1.5.0",
            "description_tooltip": null,
            "_model_module": "@jupyter-widgets/controls",
            "layout": "IPY_MODEL_ff6f53eaafe846458aebcbe68be507b0"
          }
        },
        "1c40c96f7a2d4789baaf47f584ca7111": {
          "model_module": "@jupyter-widgets/controls",
          "model_name": "ProgressStyleModel",
          "state": {
            "_view_name": "StyleView",
            "_model_name": "ProgressStyleModel",
            "description_width": "initial",
            "_view_module": "@jupyter-widgets/base",
            "_model_module_version": "1.5.0",
            "_view_count": null,
            "_view_module_version": "1.2.0",
            "bar_color": null,
            "_model_module": "@jupyter-widgets/controls"
          }
        },
        "df896e7b60c84239b85144e7c788094f": {
          "model_module": "@jupyter-widgets/base",
          "model_name": "LayoutModel",
          "state": {
            "_view_name": "LayoutView",
            "grid_template_rows": null,
            "right": null,
            "justify_content": null,
            "_view_module": "@jupyter-widgets/base",
            "overflow": null,
            "_model_module_version": "1.2.0",
            "_view_count": null,
            "flex_flow": null,
            "width": null,
            "min_width": null,
            "border": null,
            "align_items": null,
            "bottom": null,
            "_model_module": "@jupyter-widgets/base",
            "top": null,
            "grid_column": null,
            "overflow_y": null,
            "overflow_x": null,
            "grid_auto_flow": null,
            "grid_area": null,
            "grid_template_columns": null,
            "flex": null,
            "_model_name": "LayoutModel",
            "justify_items": null,
            "grid_row": null,
            "max_height": null,
            "align_content": null,
            "visibility": null,
            "align_self": null,
            "height": null,
            "min_height": null,
            "padding": null,
            "grid_auto_rows": null,
            "grid_gap": null,
            "max_width": null,
            "order": null,
            "_view_module_version": "1.2.0",
            "grid_template_areas": null,
            "object_position": null,
            "object_fit": null,
            "grid_auto_columns": null,
            "margin": null,
            "display": null,
            "left": null
          }
        },
        "7f2e26bf512545a48d778bfa36e74f7a": {
          "model_module": "@jupyter-widgets/controls",
          "model_name": "DescriptionStyleModel",
          "state": {
            "_view_name": "StyleView",
            "_model_name": "DescriptionStyleModel",
            "description_width": "",
            "_view_module": "@jupyter-widgets/base",
            "_model_module_version": "1.5.0",
            "_view_count": null,
            "_view_module_version": "1.2.0",
            "_model_module": "@jupyter-widgets/controls"
          }
        },
        "ff6f53eaafe846458aebcbe68be507b0": {
          "model_module": "@jupyter-widgets/base",
          "model_name": "LayoutModel",
          "state": {
            "_view_name": "LayoutView",
            "grid_template_rows": null,
            "right": null,
            "justify_content": null,
            "_view_module": "@jupyter-widgets/base",
            "overflow": null,
            "_model_module_version": "1.2.0",
            "_view_count": null,
            "flex_flow": null,
            "width": null,
            "min_width": null,
            "border": null,
            "align_items": null,
            "bottom": null,
            "_model_module": "@jupyter-widgets/base",
            "top": null,
            "grid_column": null,
            "overflow_y": null,
            "overflow_x": null,
            "grid_auto_flow": null,
            "grid_area": null,
            "grid_template_columns": null,
            "flex": null,
            "_model_name": "LayoutModel",
            "justify_items": null,
            "grid_row": null,
            "max_height": null,
            "align_content": null,
            "visibility": null,
            "align_self": null,
            "height": null,
            "min_height": null,
            "padding": null,
            "grid_auto_rows": null,
            "grid_gap": null,
            "max_width": null,
            "order": null,
            "_view_module_version": "1.2.0",
            "grid_template_areas": null,
            "object_position": null,
            "object_fit": null,
            "grid_auto_columns": null,
            "margin": null,
            "display": null,
            "left": null
          }
        },
        "0992aaa3aca24986a3211d9acafbb696": {
          "model_module": "@jupyter-widgets/controls",
          "model_name": "HBoxModel",
          "state": {
            "_view_name": "HBoxView",
            "_dom_classes": [],
            "_model_name": "HBoxModel",
            "_view_module": "@jupyter-widgets/controls",
            "_model_module_version": "1.5.0",
            "_view_count": null,
            "_view_module_version": "1.5.0",
            "box_style": "",
            "layout": "IPY_MODEL_7d63dc2a169d4dd3a3298fccfeeb4192",
            "_model_module": "@jupyter-widgets/controls",
            "children": [
              "IPY_MODEL_a72a906773e441e58d4b807398127510",
              "IPY_MODEL_a7a9a8d3c21f4083a3d54a37f5dc8b36"
            ]
          }
        },
        "7d63dc2a169d4dd3a3298fccfeeb4192": {
          "model_module": "@jupyter-widgets/base",
          "model_name": "LayoutModel",
          "state": {
            "_view_name": "LayoutView",
            "grid_template_rows": null,
            "right": null,
            "justify_content": null,
            "_view_module": "@jupyter-widgets/base",
            "overflow": null,
            "_model_module_version": "1.2.0",
            "_view_count": null,
            "flex_flow": null,
            "width": null,
            "min_width": null,
            "border": null,
            "align_items": null,
            "bottom": null,
            "_model_module": "@jupyter-widgets/base",
            "top": null,
            "grid_column": null,
            "overflow_y": null,
            "overflow_x": null,
            "grid_auto_flow": null,
            "grid_area": null,
            "grid_template_columns": null,
            "flex": null,
            "_model_name": "LayoutModel",
            "justify_items": null,
            "grid_row": null,
            "max_height": null,
            "align_content": null,
            "visibility": null,
            "align_self": null,
            "height": null,
            "min_height": null,
            "padding": null,
            "grid_auto_rows": null,
            "grid_gap": null,
            "max_width": null,
            "order": null,
            "_view_module_version": "1.2.0",
            "grid_template_areas": null,
            "object_position": null,
            "object_fit": null,
            "grid_auto_columns": null,
            "margin": null,
            "display": null,
            "left": null
          }
        },
        "a72a906773e441e58d4b807398127510": {
          "model_module": "@jupyter-widgets/controls",
          "model_name": "FloatProgressModel",
          "state": {
            "_view_name": "ProgressView",
            "style": "IPY_MODEL_161ea708f83743b5a4d941088a5e2022",
            "_dom_classes": [],
            "description": "100%",
            "_model_name": "FloatProgressModel",
            "bar_style": "success",
            "max": 1613,
            "_view_module": "@jupyter-widgets/controls",
            "_model_module_version": "1.5.0",
            "value": 1613,
            "_view_count": null,
            "_view_module_version": "1.5.0",
            "orientation": "horizontal",
            "min": 0,
            "description_tooltip": null,
            "_model_module": "@jupyter-widgets/controls",
            "layout": "IPY_MODEL_8a5e3c5f64f847fa8c93aa52d778e780"
          }
        },
        "a7a9a8d3c21f4083a3d54a37f5dc8b36": {
          "model_module": "@jupyter-widgets/controls",
          "model_name": "HTMLModel",
          "state": {
            "_view_name": "HTMLView",
            "style": "IPY_MODEL_e936d9ccf6924f5aa8b2b38ddf3ccdaa",
            "_dom_classes": [],
            "description": "",
            "_model_name": "HTMLModel",
            "placeholder": "​",
            "_view_module": "@jupyter-widgets/controls",
            "_model_module_version": "1.5.0",
            "value": " 1613/1613 [21:19&lt;00:00,  1.26it/s]",
            "_view_count": null,
            "_view_module_version": "1.5.0",
            "description_tooltip": null,
            "_model_module": "@jupyter-widgets/controls",
            "layout": "IPY_MODEL_2f7d0cbc0c8243d28728e21313ad1438"
          }
        },
        "161ea708f83743b5a4d941088a5e2022": {
          "model_module": "@jupyter-widgets/controls",
          "model_name": "ProgressStyleModel",
          "state": {
            "_view_name": "StyleView",
            "_model_name": "ProgressStyleModel",
            "description_width": "initial",
            "_view_module": "@jupyter-widgets/base",
            "_model_module_version": "1.5.0",
            "_view_count": null,
            "_view_module_version": "1.2.0",
            "bar_color": null,
            "_model_module": "@jupyter-widgets/controls"
          }
        },
        "8a5e3c5f64f847fa8c93aa52d778e780": {
          "model_module": "@jupyter-widgets/base",
          "model_name": "LayoutModel",
          "state": {
            "_view_name": "LayoutView",
            "grid_template_rows": null,
            "right": null,
            "justify_content": null,
            "_view_module": "@jupyter-widgets/base",
            "overflow": null,
            "_model_module_version": "1.2.0",
            "_view_count": null,
            "flex_flow": null,
            "width": null,
            "min_width": null,
            "border": null,
            "align_items": null,
            "bottom": null,
            "_model_module": "@jupyter-widgets/base",
            "top": null,
            "grid_column": null,
            "overflow_y": null,
            "overflow_x": null,
            "grid_auto_flow": null,
            "grid_area": null,
            "grid_template_columns": null,
            "flex": null,
            "_model_name": "LayoutModel",
            "justify_items": null,
            "grid_row": null,
            "max_height": null,
            "align_content": null,
            "visibility": null,
            "align_self": null,
            "height": null,
            "min_height": null,
            "padding": null,
            "grid_auto_rows": null,
            "grid_gap": null,
            "max_width": null,
            "order": null,
            "_view_module_version": "1.2.0",
            "grid_template_areas": null,
            "object_position": null,
            "object_fit": null,
            "grid_auto_columns": null,
            "margin": null,
            "display": null,
            "left": null
          }
        },
        "e936d9ccf6924f5aa8b2b38ddf3ccdaa": {
          "model_module": "@jupyter-widgets/controls",
          "model_name": "DescriptionStyleModel",
          "state": {
            "_view_name": "StyleView",
            "_model_name": "DescriptionStyleModel",
            "description_width": "",
            "_view_module": "@jupyter-widgets/base",
            "_model_module_version": "1.5.0",
            "_view_count": null,
            "_view_module_version": "1.2.0",
            "_model_module": "@jupyter-widgets/controls"
          }
        },
        "2f7d0cbc0c8243d28728e21313ad1438": {
          "model_module": "@jupyter-widgets/base",
          "model_name": "LayoutModel",
          "state": {
            "_view_name": "LayoutView",
            "grid_template_rows": null,
            "right": null,
            "justify_content": null,
            "_view_module": "@jupyter-widgets/base",
            "overflow": null,
            "_model_module_version": "1.2.0",
            "_view_count": null,
            "flex_flow": null,
            "width": null,
            "min_width": null,
            "border": null,
            "align_items": null,
            "bottom": null,
            "_model_module": "@jupyter-widgets/base",
            "top": null,
            "grid_column": null,
            "overflow_y": null,
            "overflow_x": null,
            "grid_auto_flow": null,
            "grid_area": null,
            "grid_template_columns": null,
            "flex": null,
            "_model_name": "LayoutModel",
            "justify_items": null,
            "grid_row": null,
            "max_height": null,
            "align_content": null,
            "visibility": null,
            "align_self": null,
            "height": null,
            "min_height": null,
            "padding": null,
            "grid_auto_rows": null,
            "grid_gap": null,
            "max_width": null,
            "order": null,
            "_view_module_version": "1.2.0",
            "grid_template_areas": null,
            "object_position": null,
            "object_fit": null,
            "grid_auto_columns": null,
            "margin": null,
            "display": null,
            "left": null
          }
        }
      }
    }
  },
  "cells": [
    {
      "cell_type": "markdown",
      "metadata": {
        "id": "TBfADFBVrvvx"
      },
      "source": [
        "# Setup"
      ]
    },
    {
      "cell_type": "code",
      "metadata": {
        "colab": {
          "base_uri": "https://localhost:8080/"
        },
        "id": "0tsZ9DQPrzQT",
        "outputId": "a4f94db1-be82-4fc2-84f9-69d7ce8b53c6"
      },
      "source": [
        "!pip -q install imagecodecs "
      ],
      "execution_count": 1,
      "outputs": [
        {
          "output_type": "stream",
          "text": [
            "\u001b[K     |████████████████████████████████| 30.0MB 93kB/s \n",
            "\u001b[?25h"
          ],
          "name": "stdout"
        }
      ]
    },
    {
      "cell_type": "code",
      "metadata": {
        "colab": {
          "base_uri": "https://localhost:8080/"
        },
        "id": "y01BQWRqr1qM",
        "outputId": "9932b3bd-6222-435b-c818-3e346d402950"
      },
      "source": [
        "!pip install catboost=='0.26'"
      ],
      "execution_count": 4,
      "outputs": [
        {
          "output_type": "stream",
          "text": [
            "Collecting catboost==0.26\n",
            "\u001b[?25l  Downloading https://files.pythonhosted.org/packages/5a/41/24e14322b9986cf72a8763e0a0a69cc256cf963cf9502c8f0044a62c1ae8/catboost-0.26-cp37-none-manylinux1_x86_64.whl (69.2MB)\n",
            "\u001b[K     |████████████████████████████████| 69.2MB 41kB/s \n",
            "\u001b[?25hRequirement already satisfied: pandas>=0.24.0 in /usr/local/lib/python3.7/dist-packages (from catboost==0.26) (1.1.5)\n",
            "Requirement already satisfied: six in /usr/local/lib/python3.7/dist-packages (from catboost==0.26) (1.15.0)\n",
            "Requirement already satisfied: matplotlib in /usr/local/lib/python3.7/dist-packages (from catboost==0.26) (3.2.2)\n",
            "Requirement already satisfied: graphviz in /usr/local/lib/python3.7/dist-packages (from catboost==0.26) (0.10.1)\n",
            "Requirement already satisfied: scipy in /usr/local/lib/python3.7/dist-packages (from catboost==0.26) (1.4.1)\n",
            "Requirement already satisfied: numpy>=1.16.0 in /usr/local/lib/python3.7/dist-packages (from catboost==0.26) (1.19.5)\n",
            "Requirement already satisfied: plotly in /usr/local/lib/python3.7/dist-packages (from catboost==0.26) (4.4.1)\n",
            "Requirement already satisfied: python-dateutil>=2.7.3 in /usr/local/lib/python3.7/dist-packages (from pandas>=0.24.0->catboost==0.26) (2.8.1)\n",
            "Requirement already satisfied: pytz>=2017.2 in /usr/local/lib/python3.7/dist-packages (from pandas>=0.24.0->catboost==0.26) (2018.9)\n",
            "Requirement already satisfied: pyparsing!=2.0.4,!=2.1.2,!=2.1.6,>=2.0.1 in /usr/local/lib/python3.7/dist-packages (from matplotlib->catboost==0.26) (2.4.7)\n",
            "Requirement already satisfied: cycler>=0.10 in /usr/local/lib/python3.7/dist-packages (from matplotlib->catboost==0.26) (0.10.0)\n",
            "Requirement already satisfied: kiwisolver>=1.0.1 in /usr/local/lib/python3.7/dist-packages (from matplotlib->catboost==0.26) (1.3.1)\n",
            "Requirement already satisfied: retrying>=1.3.3 in /usr/local/lib/python3.7/dist-packages (from plotly->catboost==0.26) (1.3.3)\n",
            "Installing collected packages: catboost\n",
            "Successfully installed catboost-0.26\n"
          ],
          "name": "stdout"
        }
      ]
    },
    {
      "cell_type": "code",
      "metadata": {
        "colab": {
          "base_uri": "https://localhost:8080/"
        },
        "id": "DdQxFFv7r7gz",
        "outputId": "61916031-e842-4397-b7b6-0f057687c0a1"
      },
      "source": [
        "from google.colab import drive\n",
        "drive.mount('/content/drive')"
      ],
      "execution_count": 6,
      "outputs": [
        {
          "output_type": "stream",
          "text": [
            "Drive already mounted at /content/drive; to attempt to forcibly remount, call drive.mount(\"/content/drive\", force_remount=True).\n"
          ],
          "name": "stdout"
        }
      ]
    },
    {
      "cell_type": "code",
      "metadata": {
        "id": "7aMzooPOVkyo"
      },
      "source": [
        "!cp \"/content/drive/MyDrive/lacuna_zindi/lacuna/train_unique.csv\" .\n",
        "!cp \"/content/drive/MyDrive/lacuna_zindi/lacuna/auxiliary_data_unique.csv\" . \n",
        "!cp \"/content/drive/MyDrive/lacuna_zindi/lacuna/extra_train.csv\" . \n",
        "!cp \"/content/drive/MyDrive/lacuna_zindi/lacuna/test.csv\" .\n"
      ],
      "execution_count": 7,
      "outputs": []
    },
    {
      "cell_type": "code",
      "metadata": {
        "colab": {
          "base_uri": "https://localhost:8080/"
        },
        "id": "IGheaac-n3Ky",
        "outputId": "9a68708d-f284-4992-affa-c2fce8f4887d"
      },
      "source": [
        "\n",
        "!unzip -q \"/content/drive/MyDrive/lacuna_zindi/lacuna/sentinel-part1.zip\"\n",
        "!unzip -q \"/content/drive/MyDrive/lacuna_zindi/lacuna/sentinel_part2.zip\"\n",
        "\n",
        "!unzip -q \"/content/drive/MyDrive/lacuna_zindi/lacuna/extra_train_sentinel.zip\"\n",
        "\n",
        "!unzip -q \"/content/drive/MyDrive/lacuna_zindi/lacuna/sentinel_for_points_collected_in_2015.zip\"\n",
        "!unzip -q \"/content/drive/MyDrive/lacuna_zindi/lacuna/sentinel_for_points_collected_in_2015_updated_2.zip\"\n",
        "#ATTENTION: when the message replace sentinel_for_points_collected_in_2015 shows, press A "
      ],
      "execution_count": 8,
      "outputs": [
        {
          "output_type": "stream",
          "text": [
            "replace sentinel_for_points_collected_in_2015/cdc19ade.tif? [y]es, [n]o, [A]ll, [N]one, [r]ename: A\n"
          ],
          "name": "stdout"
        }
      ]
    },
    {
      "cell_type": "code",
      "metadata": {
        "id": "tldDusFen7mv"
      },
      "source": [
        "!unzip -q \"/content/drive/MyDrive/lacuna_zindi/lacuna/planet_june18.zip\"\n",
        "!unzip -q \"/content/drive/MyDrive/lacuna_zindi/lacuna/planet_june17.zip\"\n",
        "!unzip -q \"/content/drive/MyDrive/lacuna_zindi/lacuna/planet_dec18.zip\"\n",
        "!unzip -q \"/content/drive/MyDrive/lacuna_zindi/lacuna/planet_dec17.zip\"\n",
        "\n",
        "!unzip -q \"/content/drive/MyDrive/lacuna_zindi/lacuna/extra_train_planet_jun18.zip\"\n",
        "!unzip -q \"/content/drive/MyDrive/lacuna_zindi/lacuna/extra_train_planet_dec18.zip\"\n",
        "!unzip -q \"/content/drive/MyDrive/lacuna_zindi/lacuna/extra_train_planet_jun17.zip\"\n",
        "!unzip -q \"/content/drive/MyDrive/lacuna_zindi/lacuna/extra_train_planet_dec17.zip\""
      ],
      "execution_count": 9,
      "outputs": []
    },
    {
      "cell_type": "code",
      "metadata": {
        "id": "UtCriAZV4hj4"
      },
      "source": [
        "import os\n",
        "\n",
        "import pandas as pd\n",
        "import numpy as np\n",
        "\n",
        "import skimage.io\n",
        "import matplotlib.pylab as plt\n",
        "import scipy\n",
        "\n",
        "from scipy import ndimage\n",
        "from skimage.segmentation import quickshift"
      ],
      "execution_count": 10,
      "outputs": []
    },
    {
      "cell_type": "markdown",
      "metadata": {
        "id": "n3qV5YjysbC9"
      },
      "source": [
        "# Loading data"
      ]
    },
    {
      "cell_type": "code",
      "metadata": {
        "id": "Uc3ag1nhb13S"
      },
      "source": [
        "#function for loading RGB image from planet lab sattelite\n",
        "def load_RGB_images(ID, load_extra=False):\n",
        "  if load_extra:\n",
        "    extra = 'extra_train-'\n",
        "  else:\n",
        "    extra = ''\n",
        "  name = ID.split('_')[1]\n",
        "  img_jun17 = skimage.io.imread(f'{extra}planet-jun17/{name}.png')\n",
        "  img_dec17 = skimage.io.imread(f'{extra}planet-dec17/{name}.png')\n",
        "  img_jun18 = skimage.io.imread(f'{extra}planet-jun18/{name}.png')\n",
        "  img_dec18 = skimage.io.imread(f'{extra}planet-dec18/{name}.png')\n",
        "  return img_jun17, img_dec17, img_jun18, img_dec18"
      ],
      "execution_count": 11,
      "outputs": []
    },
    {
      "cell_type": "code",
      "metadata": {
        "id": "Tam-yE0ddzJE"
      },
      "source": [
        "#function for loading spectral bands from sentinel 2 sattelite\n",
        "def load_Spectral_image(ID, load_extra=False, year_2015=False):\n",
        "  # e.g id_0b242e06 -> 0b242e06\n",
        "  if load_extra:\n",
        "    extra = 'extra_train-'\n",
        "  else:\n",
        "    extra = ''\n",
        "  name = ID.split('_')[1]\n",
        "  if year_2015:\n",
        "    root_dir = 'sentinel_for_points_collected_in_2015'\n",
        "  else:\n",
        "    root_dir = extra + 'sentinel'\n",
        "  img_sentinel = skimage.io.imread(f'{root_dir}/{name}.tif')\n",
        "  return img_sentinel"
      ],
      "execution_count": 12,
      "outputs": []
    },
    {
      "cell_type": "code",
      "metadata": {
        "id": "ZuQMDNFYRX42"
      },
      "source": [
        "\n",
        "#load all data\n",
        "train = pd.read_csv('train_unique.csv')\n",
        "aux = pd.read_csv('auxiliary_data_unique.csv')\n",
        "extra = pd.read_csv('extra_train.csv')\n",
        "test = pd.read_csv('test.csv')\n",
        "\n",
        "#concatenate train, aux and extra \n",
        "TT=pd.concat([train,aux,extra])"
      ],
      "execution_count": 13,
      "outputs": []
    },
    {
      "cell_type": "markdown",
      "metadata": {
        "id": "WIyMNt6Qsn3s"
      },
      "source": [
        "# Feature engineering"
      ]
    },
    {
      "cell_type": "code",
      "metadata": {
        "id": "HJI0jQNC_iww"
      },
      "source": [
        "#sliding_window returns a list of 16 (3*3) windows around the center of the image\n",
        "def sliding_window(im,x0,y0):\n",
        "  set1=im[x0-2:x0+1,y0-2:y0+1]\n",
        "  set2=im[x0-5:x0-2,y0-2:y0+1]\n",
        "  set3=im[x0-2:x0+1,y0-5:y0-2]\n",
        "  set4=im[x0-5:x0-2,y0-5:y0-2]\n",
        "  set5=im[x0:x0+3,y0-2:y0+1]\n",
        "  set6=im[x0+3:x0+6,y0-2:y0+1]\n",
        "  set7=im[x0:x0+3,y0-5:y0-2]\n",
        "  set8=im[x0+3:x0+6,y0-5:y0-2]\n",
        "  set9=im[x0:x0+3,y0:y0+3]\n",
        "  set10=im[x0:x0+3,y0+3:y0+6]\n",
        "  set11=im[x0+3:x0+6,y0:y0+3]\n",
        "  set12=im[x0+3:x0+6,y0+3:y0+6]\n",
        "  set13=im[x0-2:x0+1,y0:y0+3]\n",
        "  set14=im[x0-5:x0-2,y0+3:y0+6]\n",
        "  set15=im[x0-2:x0+1,y0+3:y0+6]\n",
        "  set16=im[x0-5:x0-2,y0:y0+3]\n",
        "\n",
        "  sets=[set1,set2,set3,set4,set5,set6,set7,set8,set9,set10,set11,set12,set13,set14,set15,set16]\n",
        "\n",
        "  return sets"
      ],
      "execution_count": 14,
      "outputs": []
    },
    {
      "cell_type": "code",
      "metadata": {
        "id": "kprpdcV8ApTG"
      },
      "source": [
        "def im_stats(spec_im,planet):\n",
        "  \n",
        "  statistics={}\n",
        "  \n",
        "  x0, y0 = spec_im.shape[1]//2, spec_im.shape[0]//2\n",
        "  \n",
        "  redband_stack=np.zeros(spec_im.shape)\n",
        "  NIRband_stack=np.zeros(spec_im.shape)\n",
        "  ndvi_im_stack=np.zeros(spec_im.shape)\n",
        "  \n",
        "  \n",
        "  for month in range(12):\n",
        "\n",
        "    redband_stack[:,:,month]=spec_im[:,:,3+16*month].astype('float64')\n",
        "    NIRband_stack[:,:,month]=spec_im[:,:,7+16*month].astype('float64')\n",
        "    ndvi_im_stack[:,:,month]=(NIRband_stack[:,:,month]-redband_stack[:,:,month])/(redband_stack[:,:,month]+NIRband_stack[:,:,month])\n",
        "   \n",
        "    \n",
        "    ndvi_im=ndvi_im_stack[:,:,month]\n",
        "\n",
        " # statistics on ndvi for 3*3 rolling windows \n",
        "    windows=sliding_window(ndvi_im,x0,y0)\n",
        "    \n",
        "    for i in range(len(windows)):\n",
        "      \n",
        "      statistics[f'{i}_local_ndvi_{month}']=np.median(windows[i].flatten()) #ndvi_median in each window\n",
        "      statistics[f'{i}_local_range_{month}']=np.max(windows[i].flatten())-np.min(windows[i].flatten()) #ndvi range between max and min ndvi values in a window\n",
        "\n",
        "   \n",
        "    for i in range(len(windows)):\n",
        "      \n",
        "      statistics[f'{i}_nbg_{month}']=len(windows[i][windows[i]>=0.6].flatten())#ndvi >=0.6 indicates the presence of vegetation\n",
        "      statistics[f'{i}_nbs_{month}']=len(windows[i][windows[i]<=0.1].flatten()) #ndvi <=0.1 indicates the presence for bare soil/built up areas\n",
        "      \n",
        "      statistics[f'{i}_ratio_{month}']=ndvi_im[x0,y0]/statistics[f'{i}_local_ndvi_{month}']\n",
        "\n",
        "       \n",
        "#segmentation : using the quickshift algorithm to delineate(approximately) fields boundaries \n",
        "#and calculate the center of mass of the field in wich the center is located\n",
        "\n",
        "\n",
        "  # Calculate the segments using the quickshift algorithm with kernel_size 3 and 4 for each planet lab image\n",
        "   \n",
        "  for size in [3,4]:\n",
        "    mean_x=0\n",
        "    mean_y=0\n",
        " \n",
        "    for i in range(len(planet)):\n",
        "      \n",
        "      x0_rgb, y0_rgb=planet[i].shape[1]//2, planet[i].shape[0]//2\n",
        "      segments = quickshift(planet[i],\n",
        "                          kernel_size=size,\n",
        "                          convert2lab=False,\n",
        "                          max_dist=5,\n",
        "                          ratio=1)\n",
        "\n",
        "      \n",
        "      mask=np.where(segments==segments[x0_rgb,y0_rgb],1,0)\n",
        "      \n",
        "\n",
        "      statistics[f'cluster_center_x_{i}_size{size}']=ndimage.measurements.center_of_mass(mask)[0]\n",
        "      mean_x=mean_x+statistics[f'cluster_center_x_{i}_size{size}']\n",
        "      statistics[f'cluster_center_y_{i}_size{size}']=ndimage.measurements.center_of_mass(mask)[1] \n",
        "      mean_y=mean_y+statistics[f'cluster_center_y_{i}_size{size}']\n",
        "\n",
        "    \n",
        "    mean_x=mean_x/len(planet)\n",
        "    mean_y=mean_y/len(planet)\n",
        "\n",
        "    statistics[f'mean_x_size{size}']=mean_x\n",
        "    statistics[f'mean_y_size{size}']=mean_y\n",
        "  \n",
        "\n",
        "# calculating temporal std in ndvi_im : ndvi_im is calculated in each of the 12 months \n",
        "# then for each pixel std ndvi from data of the 12 months is calculated \n",
        "# --> pixels with high std indicates changing areas over time therefore pixels with low std are most probably roads or homes  \n",
        "  std_im=np.std(ndvi_im_stack,axis=2)\n",
        "  sets=sliding_window(std_im,x0,y0) # statistics:[median,max] from std_im are calculated for the 16 windows (3*3)\n",
        "  \n",
        "  for i in range(len(sets)):\n",
        "    statistics[f'{i}_std_window']=np.median(sets[i].flatten())\n",
        "    statistics[f'{i}_max_window']=np.max(sets[i].flatten())  \n",
        "    \n",
        "  \n",
        "  return statistics"
      ],
      "execution_count": 15,
      "outputs": []
    },
    {
      "cell_type": "markdown",
      "metadata": {
        "id": "eredkF2-ukUr"
      },
      "source": [
        "**creating train_NDVI**\n",
        "\n",
        "the quality column is dropped because it is not available in test"
      ]
    },
    {
      "cell_type": "code",
      "metadata": {
        "colab": {
          "base_uri": "https://localhost:8080/",
          "height": 133,
          "referenced_widgets": [
            "d5589e6db5a04c6897d8d8dbe77e1e0d",
            "f7492e5cb40e4deb8a0bc006c93e9bc9",
            "83a5d1c6d0564fa39882b77e693d13dd",
            "2e3c5e9ad0e34dbc8850730c0c6e3c85",
            "1c40c96f7a2d4789baaf47f584ca7111",
            "df896e7b60c84239b85144e7c788094f",
            "7f2e26bf512545a48d778bfa36e74f7a",
            "ff6f53eaafe846458aebcbe68be507b0"
          ]
        },
        "id": "pSV8GUYzoF1p",
        "outputId": "91d6fc3b-f0ab-4af6-d869-9f5149a846ab"
      },
      "source": [
        "import tqdm \n",
        "from tqdm import tqdm_notebook as tqdm \n",
        "train_NDVI = pd.DataFrame([im_stats(load_Spectral_image(TT.ID.values[fid_idx],load_extra=(fid_idx>=1022), year_2015=(TT.Year.values[fid_idx]==2015)),\n",
        "                                     load_RGB_images(TT.ID.values[fid_idx],load_extra=(fid_idx>=1022))) for fid_idx in tqdm(range(len(TT['ID'].values))) ])\n",
        "train_NDVI['ID'] = TT['ID'].values\n",
        "\n",
        "train_NDVI=pd.merge(train_NDVI,TT,on='ID',how='left')\n",
        "\n",
        "train_NDVI.drop('Quality',axis=1,inplace=True)"
      ],
      "execution_count": 16,
      "outputs": [
        {
          "output_type": "stream",
          "text": [
            "/usr/local/lib/python3.7/dist-packages/ipykernel_launcher.py:4: TqdmDeprecationWarning: This function will be removed in tqdm==5.0.0\n",
            "Please use `tqdm.notebook.tqdm` instead of `tqdm.tqdm_notebook`\n",
            "  after removing the cwd from sys.path.\n"
          ],
          "name": "stderr"
        },
        {
          "output_type": "display_data",
          "data": {
            "application/vnd.jupyter.widget-view+json": {
              "model_id": "d5589e6db5a04c6897d8d8dbe77e1e0d",
              "version_minor": 0,
              "version_major": 2
            },
            "text/plain": [
              "HBox(children=(FloatProgress(value=0.0, max=2021.0), HTML(value='')))"
            ]
          },
          "metadata": {
            "tags": []
          }
        },
        {
          "output_type": "stream",
          "text": [
            "/usr/local/lib/python3.7/dist-packages/ipykernel_launcher.py:35: RuntimeWarning: divide by zero encountered in double_scalars\n"
          ],
          "name": "stderr"
        },
        {
          "output_type": "stream",
          "text": [
            "\n"
          ],
          "name": "stdout"
        }
      ]
    },
    {
      "cell_type": "markdown",
      "metadata": {
        "id": "XC1BMqlLxt_8"
      },
      "source": [
        "**creating test_NDVI**"
      ]
    },
    {
      "cell_type": "code",
      "metadata": {
        "colab": {
          "base_uri": "https://localhost:8080/",
          "height": 133,
          "referenced_widgets": [
            "0992aaa3aca24986a3211d9acafbb696",
            "7d63dc2a169d4dd3a3298fccfeeb4192",
            "a72a906773e441e58d4b807398127510",
            "a7a9a8d3c21f4083a3d54a37f5dc8b36",
            "161ea708f83743b5a4d941088a5e2022",
            "8a5e3c5f64f847fa8c93aa52d778e780",
            "e936d9ccf6924f5aa8b2b38ddf3ccdaa",
            "2f7d0cbc0c8243d28728e21313ad1438"
          ]
        },
        "id": "rMFu4fpvoik1",
        "outputId": "58f57347-bece-44ba-b40a-1ee4a0785f4d"
      },
      "source": [
        "test_NDVI = pd.DataFrame([im_stats(load_Spectral_image(test.ID.values[fid_idx], year_2015=(test.Year.values[fid_idx]==2015)),\n",
        "                                     load_RGB_images(test.ID.values[fid_idx])) for fid_idx in tqdm(range(len(test['ID'].values))) ])\n",
        "test_NDVI['ID'] = test['ID'].values"
      ],
      "execution_count": 17,
      "outputs": [
        {
          "output_type": "stream",
          "text": [
            "/usr/local/lib/python3.7/dist-packages/ipykernel_launcher.py:2: TqdmDeprecationWarning: This function will be removed in tqdm==5.0.0\n",
            "Please use `tqdm.notebook.tqdm` instead of `tqdm.tqdm_notebook`\n",
            "  \n"
          ],
          "name": "stderr"
        },
        {
          "output_type": "display_data",
          "data": {
            "application/vnd.jupyter.widget-view+json": {
              "model_id": "0992aaa3aca24986a3211d9acafbb696",
              "version_minor": 0,
              "version_major": 2
            },
            "text/plain": [
              "HBox(children=(FloatProgress(value=0.0, max=1613.0), HTML(value='')))"
            ]
          },
          "metadata": {
            "tags": []
          }
        },
        {
          "output_type": "stream",
          "text": [
            "/usr/local/lib/python3.7/dist-packages/ipykernel_launcher.py:35: RuntimeWarning: divide by zero encountered in double_scalars\n"
          ],
          "name": "stderr"
        },
        {
          "output_type": "stream",
          "text": [
            "\n"
          ],
          "name": "stdout"
        }
      ]
    },
    {
      "cell_type": "markdown",
      "metadata": {
        "id": "C4r9-U3FvOiM"
      },
      "source": [
        "Yield is dropped because it contains many nans \n",
        "\n",
        "np.inf caused by devision by zero are imputed with 0 "
      ]
    },
    {
      "cell_type": "code",
      "metadata": {
        "id": "tG_DKGJqopJV"
      },
      "source": [
        "test_NDVI=pd.merge(test_NDVI,test,on='ID',how='left')\n",
        "\n",
        "test_NDVI.drop('Yield',axis=1,inplace=True)\n",
        "train_NDVI.drop('Yield',axis=1,inplace=True)\n",
        "\n",
        "#correcting the divide by zero warning when creating train_NDVI and test_NDVI with imputing np.inf with zero\n",
        "train_NDVI.replace(np.inf,0,inplace=True)\n",
        "test_NDVI.replace(np.inf,0,inplace=True)"
      ],
      "execution_count": 18,
      "outputs": []
    },
    {
      "cell_type": "markdown",
      "metadata": {
        "id": "-YSANtFSxzse"
      },
      "source": [
        "# training (lgbm)"
      ]
    },
    {
      "cell_type": "code",
      "metadata": {
        "colab": {
          "base_uri": "https://localhost:8080/"
        },
        "id": "tr62GP7t-lbJ",
        "outputId": "a7a0b5c4-1ac3-4c1b-f044-249a582d0fa7"
      },
      "source": [
        "import lightgbm as lgb \n",
        "from sklearn.model_selection import KFold\n",
        "from sklearn.metrics import mean_absolute_error\n",
        "\n",
        "skf = KFold(n_splits=3)\n",
        "X=train_NDVI.drop(['x','y','ID'],axis=1)\n",
        "y1=train_NDVI.x\n",
        "y2=train_NDVI.y\n",
        "ntest=test_NDVI.drop('ID',axis=1)\n",
        "list_preds_lg1=[]\n",
        "list_preds_lg2=[]\n",
        "\n",
        "\n",
        "oof_preds_lg = np.zeros((train_NDVI.shape[0],2))\n",
        "\n",
        "for nb ,  (train_index, test_index) in enumerate(skf.split(X)):\n",
        "    X_train, X_test = X.iloc[train_index], X.iloc[test_index]\n",
        "    y1_train, y1_test = y1.iloc[train_index], y1.iloc[test_index]\n",
        "    y2_train, y2_test = y2.iloc[train_index], y2.iloc[test_index]\n",
        "    \n",
        "    \n",
        "    model1_lg = lgb.LGBMRegressor(n_estimators=10000,learning_rate=0.01,max_depth=10,eval_metric='mae',metric= 'mae',random_seed=0,feature_fraction=0.7)\n",
        "    model1_lg.fit(X_train,y1_train,eval_set = [(X_test, y1_test)], early_stopping_rounds  = 300,verbose=0) \n",
        "    \n",
        "    preds1_lg=model1_lg.predict(X_test)\n",
        "    oof_preds_lg[test_index,0] = preds1_lg\n",
        "    \n",
        "\n",
        "    model2_lg=lgb.LGBMRegressor(n_estimators=10000,learning_rate=0.01,max_depth=10,eval_metric='mae',metric= 'mae',random_seed=0,feature_fraction=0.7)\n",
        "    model2_lg.fit(X_train,y2_train,eval_set=[(X_test,y2_test)],verbose = False,early_stopping_rounds=300)\n",
        "    \n",
        "    preds2_lg=model2_lg.predict(X_test)\n",
        "    oof_preds_lg[test_index,1] = preds2_lg\n",
        "    \n",
        "    tmp=pd.DataFrame({'y1':y1_test,'y2':y2_test,'preds1':preds1_lg,'preds2':preds2_lg})\n",
        "    print(\"Fold [{}] : {}\".format(nb,mean_absolute_error(tmp[['y1','y2']], tmp[['preds1','preds2']])))\n",
        "    \n",
        "    list_preds_lg1.append(model1_lg.predict(ntest))\n",
        "    list_preds_lg2.append(model2_lg.predict(ntest))"
      ],
      "execution_count": 25,
      "outputs": [
        {
          "output_type": "stream",
          "text": [
            "Fold [0] : 0.19348574365262822\n",
            "Fold [1] : 0.2036912778522417\n",
            "Fold [2] : 0.2315218282451731\n"
          ],
          "name": "stdout"
        }
      ]
    },
    {
      "cell_type": "code",
      "metadata": {
        "colab": {
          "base_uri": "https://localhost:8080/"
        },
        "id": "UX2O8722bIDG",
        "outputId": "cefaa0ce-20fb-4e47-e989-ebce50cbcf21"
      },
      "source": [
        "tmp_lg=train_NDVI[['ID','x','y']].copy()\n",
        "tmp_lg['preds_x']=oof_preds_lg[:,0]\n",
        "tmp_lg['preds_y']=oof_preds_lg[:,1]\n",
        "\n",
        "mean_absolute_error(tmp_lg[['x','y']], tmp_lg[['preds_x','preds_y']])"
      ],
      "execution_count": 26,
      "outputs": [
        {
          "output_type": "execute_result",
          "data": {
            "text/plain": [
              "0.20955541954640466"
            ]
          },
          "metadata": {
            "tags": []
          },
          "execution_count": 26
        }
      ]
    },
    {
      "cell_type": "code",
      "metadata": {
        "id": "QY_f7IdL0TMm"
      },
      "source": [
        "m2_lgbm_test=test_NDVI[['ID']].copy()\n",
        "m2_lgbm_test['x']=np.mean(list_preds_lg1,axis=0)\n",
        "m2_lgbm_test['y']=np.mean(list_preds_lg2,axis=0)"
      ],
      "execution_count": 27,
      "outputs": []
    },
    {
      "cell_type": "code",
      "metadata": {
        "colab": {
          "base_uri": "https://localhost:8080/",
          "height": 203
        },
        "id": "JYia3VPk_mkx",
        "outputId": "0b29b2f3-7aae-46cb-f1f0-2a5b0819c2c6"
      },
      "source": [
        "m2_lgbm_test.head(5)"
      ],
      "execution_count": 28,
      "outputs": [
        {
          "output_type": "execute_result",
          "data": {
            "text/html": [
              "<div>\n",
              "<style scoped>\n",
              "    .dataframe tbody tr th:only-of-type {\n",
              "        vertical-align: middle;\n",
              "    }\n",
              "\n",
              "    .dataframe tbody tr th {\n",
              "        vertical-align: top;\n",
              "    }\n",
              "\n",
              "    .dataframe thead th {\n",
              "        text-align: right;\n",
              "    }\n",
              "</style>\n",
              "<table border=\"1\" class=\"dataframe\">\n",
              "  <thead>\n",
              "    <tr style=\"text-align: right;\">\n",
              "      <th></th>\n",
              "      <th>ID</th>\n",
              "      <th>x</th>\n",
              "      <th>y</th>\n",
              "    </tr>\n",
              "  </thead>\n",
              "  <tbody>\n",
              "    <tr>\n",
              "      <th>0</th>\n",
              "      <td>id_e7032b10</td>\n",
              "      <td>-0.024195</td>\n",
              "      <td>0.002737</td>\n",
              "    </tr>\n",
              "    <tr>\n",
              "      <th>1</th>\n",
              "      <td>id_ae7cb51e</td>\n",
              "      <td>0.000454</td>\n",
              "      <td>-0.034732</td>\n",
              "    </tr>\n",
              "    <tr>\n",
              "      <th>2</th>\n",
              "      <td>id_e59f7730</td>\n",
              "      <td>0.000454</td>\n",
              "      <td>-0.034732</td>\n",
              "    </tr>\n",
              "    <tr>\n",
              "      <th>3</th>\n",
              "      <td>id_b9011c86</td>\n",
              "      <td>0.046222</td>\n",
              "      <td>0.043726</td>\n",
              "    </tr>\n",
              "    <tr>\n",
              "      <th>4</th>\n",
              "      <td>id_caaeb9f8</td>\n",
              "      <td>0.045682</td>\n",
              "      <td>0.039802</td>\n",
              "    </tr>\n",
              "  </tbody>\n",
              "</table>\n",
              "</div>"
            ],
            "text/plain": [
              "            ID         x         y\n",
              "0  id_e7032b10 -0.024195  0.002737\n",
              "1  id_ae7cb51e  0.000454 -0.034732\n",
              "2  id_e59f7730  0.000454 -0.034732\n",
              "3  id_b9011c86  0.046222  0.043726\n",
              "4  id_caaeb9f8  0.045682  0.039802"
            ]
          },
          "metadata": {
            "tags": []
          },
          "execution_count": 28
        }
      ]
    },
    {
      "cell_type": "code",
      "metadata": {
        "id": "2z2H6FRnCg_G"
      },
      "source": [
        "m2_lgbm_test.to_csv('final_sub_lgbm.csv', index=False)"
      ],
      "execution_count": null,
      "outputs": []
    }
  ]
}